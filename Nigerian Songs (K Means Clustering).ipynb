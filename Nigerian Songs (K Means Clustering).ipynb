{
 "cells": [
  {
   "cell_type": "markdown",
   "id": "f2fa77ae",
   "metadata": {},
   "source": [
    "## Import Libraries.."
   ]
  },
  {
   "cell_type": "code",
   "execution_count": 1,
   "id": "72197723",
   "metadata": {},
   "outputs": [],
   "source": [
    "import numpy as np\n",
    "import pandas as pd\n",
    "import matplotlib.pyplot as plt\n",
    "import seaborn as sns\n",
    "from sklearn.preprocessing import LabelEncoder, StandardScaler\n",
    "from sklearn.cluster import KMeans"
   ]
  },
  {
   "cell_type": "markdown",
   "id": "24db11ce",
   "metadata": {},
   "source": [
    "## Read dataset from csv file.."
   ]
  },
  {
   "cell_type": "code",
   "execution_count": 2,
   "id": "54678023",
   "metadata": {},
   "outputs": [],
   "source": [
    "my_data = pd.read_csv('nigerian_spotify_songs1.csv')"
   ]
  },
  {
   "cell_type": "code",
   "execution_count": 3,
   "id": "559a285f",
   "metadata": {},
   "outputs": [
    {
     "data": {
      "text/html": [
       "<div>\n",
       "<style scoped>\n",
       "    .dataframe tbody tr th:only-of-type {\n",
       "        vertical-align: middle;\n",
       "    }\n",
       "\n",
       "    .dataframe tbody tr th {\n",
       "        vertical-align: top;\n",
       "    }\n",
       "\n",
       "    .dataframe thead th {\n",
       "        text-align: right;\n",
       "    }\n",
       "</style>\n",
       "<table border=\"1\" class=\"dataframe\">\n",
       "  <thead>\n",
       "    <tr style=\"text-align: right;\">\n",
       "      <th></th>\n",
       "      <th>name</th>\n",
       "      <th>album</th>\n",
       "      <th>artist</th>\n",
       "      <th>artist_top_genre</th>\n",
       "      <th>release_date</th>\n",
       "      <th>length</th>\n",
       "      <th>popularity</th>\n",
       "      <th>danceability</th>\n",
       "      <th>acousticness</th>\n",
       "      <th>energy</th>\n",
       "      <th>instrumentalness</th>\n",
       "      <th>liveness</th>\n",
       "      <th>loudness</th>\n",
       "      <th>speechiness</th>\n",
       "      <th>tempo</th>\n",
       "      <th>time_signature</th>\n",
       "    </tr>\n",
       "  </thead>\n",
       "  <tbody>\n",
       "    <tr>\n",
       "      <th>0</th>\n",
       "      <td>Sparky</td>\n",
       "      <td>Mandy &amp; The Jungle</td>\n",
       "      <td>Cruel Santino</td>\n",
       "      <td>alternative r&amp;b</td>\n",
       "      <td>2019</td>\n",
       "      <td>144000</td>\n",
       "      <td>48</td>\n",
       "      <td>0.666</td>\n",
       "      <td>0.8510</td>\n",
       "      <td>0.420</td>\n",
       "      <td>0.534000</td>\n",
       "      <td>0.1100</td>\n",
       "      <td>-6.699</td>\n",
       "      <td>0.0829</td>\n",
       "      <td>133.015</td>\n",
       "      <td>5</td>\n",
       "    </tr>\n",
       "    <tr>\n",
       "      <th>1</th>\n",
       "      <td>shuga rush</td>\n",
       "      <td>EVERYTHING YOU HEARD IS TRUE</td>\n",
       "      <td>Odunsi (The Engine)</td>\n",
       "      <td>afropop</td>\n",
       "      <td>2020</td>\n",
       "      <td>89488</td>\n",
       "      <td>30</td>\n",
       "      <td>0.710</td>\n",
       "      <td>0.0822</td>\n",
       "      <td>0.683</td>\n",
       "      <td>0.000169</td>\n",
       "      <td>0.1010</td>\n",
       "      <td>-5.640</td>\n",
       "      <td>0.3600</td>\n",
       "      <td>129.993</td>\n",
       "      <td>3</td>\n",
       "    </tr>\n",
       "    <tr>\n",
       "      <th>2</th>\n",
       "      <td>LITT!</td>\n",
       "      <td>LITT!</td>\n",
       "      <td>AYLØ</td>\n",
       "      <td>indie r&amp;b</td>\n",
       "      <td>2018</td>\n",
       "      <td>207758</td>\n",
       "      <td>40</td>\n",
       "      <td>0.836</td>\n",
       "      <td>0.2720</td>\n",
       "      <td>0.564</td>\n",
       "      <td>0.000537</td>\n",
       "      <td>0.1100</td>\n",
       "      <td>-7.127</td>\n",
       "      <td>0.0424</td>\n",
       "      <td>130.005</td>\n",
       "      <td>4</td>\n",
       "    </tr>\n",
       "    <tr>\n",
       "      <th>3</th>\n",
       "      <td>Confident / Feeling Cool</td>\n",
       "      <td>Enjoy Your Life</td>\n",
       "      <td>Lady Donli</td>\n",
       "      <td>nigerian pop</td>\n",
       "      <td>2019</td>\n",
       "      <td>175135</td>\n",
       "      <td>14</td>\n",
       "      <td>0.894</td>\n",
       "      <td>0.7980</td>\n",
       "      <td>0.611</td>\n",
       "      <td>0.000187</td>\n",
       "      <td>0.0964</td>\n",
       "      <td>-4.961</td>\n",
       "      <td>0.1130</td>\n",
       "      <td>111.087</td>\n",
       "      <td>4</td>\n",
       "    </tr>\n",
       "    <tr>\n",
       "      <th>4</th>\n",
       "      <td>wanted you</td>\n",
       "      <td>rare.</td>\n",
       "      <td>Odunsi (The Engine)</td>\n",
       "      <td>afropop</td>\n",
       "      <td>2018</td>\n",
       "      <td>152049</td>\n",
       "      <td>25</td>\n",
       "      <td>0.702</td>\n",
       "      <td>0.1160</td>\n",
       "      <td>0.833</td>\n",
       "      <td>0.910000</td>\n",
       "      <td>0.3480</td>\n",
       "      <td>-6.044</td>\n",
       "      <td>0.0447</td>\n",
       "      <td>105.115</td>\n",
       "      <td>4</td>\n",
       "    </tr>\n",
       "  </tbody>\n",
       "</table>\n",
       "</div>"
      ],
      "text/plain": [
       "                       name                         album  \\\n",
       "0                    Sparky            Mandy & The Jungle   \n",
       "1                shuga rush  EVERYTHING YOU HEARD IS TRUE   \n",
       "2                     LITT!                         LITT!   \n",
       "3  Confident / Feeling Cool               Enjoy Your Life   \n",
       "4                wanted you                         rare.   \n",
       "\n",
       "                artist artist_top_genre  release_date  length  popularity  \\\n",
       "0        Cruel Santino  alternative r&b          2019  144000          48   \n",
       "1  Odunsi (The Engine)          afropop          2020   89488          30   \n",
       "2                 AYLØ        indie r&b          2018  207758          40   \n",
       "3           Lady Donli     nigerian pop          2019  175135          14   \n",
       "4  Odunsi (The Engine)          afropop          2018  152049          25   \n",
       "\n",
       "   danceability  acousticness  energy  instrumentalness  liveness  loudness  \\\n",
       "0         0.666        0.8510   0.420          0.534000    0.1100    -6.699   \n",
       "1         0.710        0.0822   0.683          0.000169    0.1010    -5.640   \n",
       "2         0.836        0.2720   0.564          0.000537    0.1100    -7.127   \n",
       "3         0.894        0.7980   0.611          0.000187    0.0964    -4.961   \n",
       "4         0.702        0.1160   0.833          0.910000    0.3480    -6.044   \n",
       "\n",
       "   speechiness    tempo  time_signature  \n",
       "0       0.0829  133.015               5  \n",
       "1       0.3600  129.993               3  \n",
       "2       0.0424  130.005               4  \n",
       "3       0.1130  111.087               4  \n",
       "4       0.0447  105.115               4  "
      ]
     },
     "execution_count": 3,
     "metadata": {},
     "output_type": "execute_result"
    }
   ],
   "source": [
    "my_frame = pd.DataFrame(my_data)\n",
    "my_frame.head()"
   ]
  },
  {
   "cell_type": "code",
   "execution_count": 4,
   "id": "230aca78",
   "metadata": {},
   "outputs": [
    {
     "data": {
      "text/plain": [
       "(530, 16)"
      ]
     },
     "execution_count": 4,
     "metadata": {},
     "output_type": "execute_result"
    }
   ],
   "source": [
    "my_frame.shape"
   ]
  },
  {
   "cell_type": "markdown",
   "id": "1b38d6cf",
   "metadata": {},
   "source": [
    "## Data Cleaning / Data Wrangling.."
   ]
  },
  {
   "cell_type": "code",
   "execution_count": 5,
   "id": "735344ec",
   "metadata": {},
   "outputs": [
    {
     "data": {
      "text/plain": [
       "name                0\n",
       "album               0\n",
       "artist              0\n",
       "artist_top_genre    0\n",
       "release_date        0\n",
       "length              0\n",
       "popularity          0\n",
       "danceability        0\n",
       "acousticness        0\n",
       "energy              0\n",
       "instrumentalness    0\n",
       "liveness            0\n",
       "loudness            0\n",
       "speechiness         0\n",
       "tempo               0\n",
       "time_signature      0\n",
       "dtype: int64"
      ]
     },
     "execution_count": 5,
     "metadata": {},
     "output_type": "execute_result"
    }
   ],
   "source": [
    "my_frame.isnull().sum()"
   ]
  },
  {
   "cell_type": "code",
   "execution_count": 6,
   "id": "c0a3ec67",
   "metadata": {},
   "outputs": [
    {
     "data": {
      "text/plain": [
       "name                 object\n",
       "album                object\n",
       "artist               object\n",
       "artist_top_genre     object\n",
       "release_date          int64\n",
       "length                int64\n",
       "popularity            int64\n",
       "danceability        float64\n",
       "acousticness        float64\n",
       "energy              float64\n",
       "instrumentalness    float64\n",
       "liveness            float64\n",
       "loudness            float64\n",
       "speechiness         float64\n",
       "tempo               float64\n",
       "time_signature        int64\n",
       "dtype: object"
      ]
     },
     "execution_count": 6,
     "metadata": {},
     "output_type": "execute_result"
    }
   ],
   "source": [
    "my_frame.dtypes"
   ]
  },
  {
   "cell_type": "code",
   "execution_count": 7,
   "id": "f8e22d5a",
   "metadata": {},
   "outputs": [
    {
     "data": {
      "text/plain": [
       "Index(['name', 'album', 'artist', 'artist_top_genre', 'release_date', 'length',\n",
       "       'popularity', 'danceability', 'acousticness', 'energy',\n",
       "       'instrumentalness', 'liveness', 'loudness', 'speechiness', 'tempo',\n",
       "       'time_signature'],\n",
       "      dtype='object')"
      ]
     },
     "execution_count": 7,
     "metadata": {},
     "output_type": "execute_result"
    }
   ],
   "source": [
    "my_frame.columns"
   ]
  },
  {
   "cell_type": "code",
   "execution_count": 8,
   "id": "7188cfc8",
   "metadata": {},
   "outputs": [
    {
     "data": {
      "text/plain": [
       "Index(['name', 'album', 'artist', 'artist_top_genre', 'release_date', 'length',\n",
       "       'popularity', 'danceability', 'acousticness', 'energy',\n",
       "       'instrumentalness', 'liveness', 'loudness', 'speechiness', 'tempo',\n",
       "       'time_signature'],\n",
       "      dtype='object')"
      ]
     },
     "execution_count": 8,
     "metadata": {},
     "output_type": "execute_result"
    }
   ],
   "source": [
    "my_frame.columns.unique()"
   ]
  },
  {
   "cell_type": "code",
   "execution_count": 9,
   "id": "0e08dfd5",
   "metadata": {},
   "outputs": [
    {
     "data": {
      "text/plain": [
       "<AxesSubplot:>"
      ]
     },
     "execution_count": 9,
     "metadata": {},
     "output_type": "execute_result"
    },
    {
     "data": {
      "image/png": "[encoded data removed]",
      "text/plain": [
       "<Figure size 864x576 with 2 Axes>"
      ]
     },
     "metadata": {
      "needs_background": "light"
     },
     "output_type": "display_data"
    }
   ],
   "source": [
    "fig = plt.figure(figsize = (12, 8))\n",
    "sns.heatmap(my_frame.isnull())"
   ]
  },
  {
   "cell_type": "code",
   "execution_count": 10,
   "id": "6f016697",
   "metadata": {},
   "outputs": [
    {
     "data": {
      "text/plain": [
       "Text(0.5, 1.0, 'Top Genres')"
      ]
     },
     "execution_count": 10,
     "metadata": {},
     "output_type": "execute_result"
    },
    {
     "data": {
      "image/png": "[encoded data removed]",
      "text/plain": [
       "<Figure size 864x576 with 1 Axes>"
      ]
     },
     "metadata": {
      "needs_background": "light"
     },
     "output_type": "display_data"
    }
   ],
   "source": [
    "my_frame = my_frame[(my_frame['artist_top_genre'] == 'afropop') | (my_frame['artist_top_genre'] == 'alternative r&b') | \n",
    "                   (my_frame['artist_top_genre'] == 'nigerian pop')]\n",
    "my_frame = my_frame[(my_frame['popularity'] > 0)]\n",
    "top_value = my_frame['artist_top_genre'].value_counts()\n",
    "fig = plt.figure(figsize = (12, 8))\n",
    "sns.barplot(x = top_value.index, y = top_value.values)\n",
    "plt.xticks(rotation = 45)\n",
    "plt.title('Top Genres', color = 'blue', fontsize = 30, fontweight = 'bold')"
   ]
  },
  {
   "cell_type": "markdown",
   "id": "9ccb5972",
   "metadata": {},
   "source": [
    "## Apply Standard Scaler.."
   ]
  },
  {
   "cell_type": "markdown",
   "id": "8d9721c9",
   "metadata": {},
   "source": [
    "### Choose several columns with similar ranges. Make sure to include the artist_top_genre column to keep our genres straight."
   ]
  },
  {
   "cell_type": "code",
   "execution_count": 11,
   "id": "4fa639a8",
   "metadata": {},
   "outputs": [],
   "source": [
    "lb_en = LabelEncoder()\n",
    "x = my_frame.loc[:, ('artist_top_genre','popularity','danceability','acousticness','loudness','energy')]\n",
    "y = my_frame['artist_top_genre']\n",
    "x['artist_top_genre'] = lb_en.fit_transform(x['artist_top_genre'])\n",
    "y = lb_en.transform(y)"
   ]
  },
  {
   "cell_type": "markdown",
   "id": "a3fbb518",
   "metadata": {},
   "source": [
    "## Apply KMeans Algorithm on Dataset.."
   ]
  },
  {
   "cell_type": "code",
   "execution_count": 12,
   "id": "73364cea",
   "metadata": {},
   "outputs": [
    {
     "data": {
      "text/plain": [
       "array([2, 1, 0, 1, 1, 1, 1, 1, 1, 1, 1, 2, 1, 0, 0, 1, 2, 1, 0, 1, 2, 1,\n",
       "       0, 1, 0, 2, 0, 2, 2, 2, 1, 1, 0, 2, 2, 0, 1, 1, 2, 0, 0, 1, 2, 0,\n",
       "       0, 1, 0, 0, 0, 1, 2, 0, 0, 0, 1, 0, 2, 2, 0, 2, 2, 0, 2, 2, 2, 2,\n",
       "       0, 0, 2, 1, 2, 0, 0, 2, 2, 0, 2, 1, 2, 2, 2, 1, 2, 1, 0, 1, 0])"
      ]
     },
     "execution_count": 12,
     "metadata": {},
     "output_type": "execute_result"
    }
   ],
   "source": [
    "km_model = KMeans(n_clusters = 3, random_state = 0)\n",
    "km_model.fit(x)\n",
    "\n",
    "# Predict the cluster for each data point..\n",
    "y_pred_kmeans = km_model.predict(x)\n",
    "y_pred_kmeans"
   ]
  },
  {
   "cell_type": "markdown",
   "id": "c79f0fa8",
   "metadata": {},
   "source": [
    "## Our model is in middle accuracy.."
   ]
  },
  {
   "cell_type": "code",
   "execution_count": 13,
   "id": "5183851e",
   "metadata": {},
   "outputs": [
    {
     "data": {
      "text/plain": [
       "0.5537665042533775"
      ]
     },
     "execution_count": 13,
     "metadata": {},
     "output_type": "execute_result"
    }
   ],
   "source": [
    "from sklearn import metrics\n",
    "score = metrics.silhouette_score(x, y_pred_kmeans)\n",
    "score"
   ]
  },
  {
   "cell_type": "markdown",
   "id": "269c3c9b",
   "metadata": {},
   "source": [
    "## Build a model.."
   ]
  },
  {
   "cell_type": "code",
   "execution_count": 14,
   "id": "fc27a968",
   "metadata": {},
   "outputs": [
    {
     "name": "stderr",
     "output_type": "stream",
     "text": [
      "G:\\MyPython3\\lib\\site-packages\\sklearn\\cluster\\_kmeans.py:881: UserWarning: KMeans is known to have a memory leak on Windows with MKL, when there are less chunks than available threads. You can avoid it by setting the environment variable OMP_NUM_THREADS=1.\n",
      "  warnings.warn(\n"
     ]
    }
   ],
   "source": [
    "wcss_array = []\n",
    "\n",
    "for i in range(1, 11):\n",
    "    kmeans_model = KMeans(n_clusters = i, init = 'k-means++', random_state = 35)\n",
    "    kmeans_model.fit(x)\n",
    "    wcss_array.append(kmeans_model.inertia_)"
   ]
  },
  {
   "cell_type": "markdown",
   "id": "cdaf1d29",
   "metadata": {},
   "source": [
    "## Create Elbow Method.."
   ]
  },
  {
   "cell_type": "markdown",
   "id": "514ac259",
   "metadata": {},
   "source": [
    "### Use that model to decide, using the Elbow Method, the best number of clusters to build.."
   ]
  },
  {
   "cell_type": "code",
   "execution_count": 16,
   "id": "762217f4",
   "metadata": {},
   "outputs": [
    {
     "name": "stderr",
     "output_type": "stream",
     "text": [
      "G:\\MyPython3\\lib\\site-packages\\seaborn\\_decorators.py:36: FutureWarning: Pass the following variables as keyword args: x, y. From version 0.12, the only valid positional argument will be `data`, and passing other arguments without an explicit keyword will result in an error or misinterpretation.\n",
      "  warnings.warn(\n"
     ]
    },
    {
     "data": {
      "image/png": "[encoded data removed]",
      "text/plain": [
       "<Figure size 864x576 with 1 Axes>"
      ]
     },
     "metadata": {
      "needs_background": "light"
     },
     "output_type": "display_data"
    }
   ],
   "source": [
    "fig = plt.figure(figsize = (12, 8))\n",
    "sns.lineplot(range(1, 11), wcss_array, marker = 'o', color = 'red')\n",
    "plt.title('Elbow')\n",
    "plt.xlabel('Number of Clusters')\n",
    "plt.ylabel('WCSS Array')\n",
    "plt.show()"
   ]
  },
  {
   "cell_type": "markdown",
   "id": "1d92b364",
   "metadata": {},
   "source": [
    "## Fit the model and create a scatterplot of the clusters.."
   ]
  },
  {
   "cell_type": "code",
   "execution_count": 17,
   "id": "b5d47dd8",
   "metadata": {},
   "outputs": [
    {
     "data": {
      "image/png": "[encoded data removed]",
      "text/plain": [
       "<Figure size 864x576 with 1 Axes>"
      ]
     },
     "metadata": {
      "needs_background": "light"
     },
     "output_type": "display_data"
    }
   ],
   "source": [
    "kmeans_model = KMeans(n_clusters = 3)\n",
    "kmeans_model.fit(x)\n",
    "km_y_pred = kmeans_model.predict(x)\n",
    "fig = plt.figure(figsize = (12, 8))\n",
    "plt.scatter(my_frame['popularity'], my_frame['danceability'], c = km_y_pred)\n",
    "plt.xlabel('Popularity')\n",
    "plt.ylabel('Danceability')\n",
    "plt.show()"
   ]
  },
  {
   "cell_type": "markdown",
   "id": "2a2d2e7e",
   "metadata": {},
   "source": [
    "# THE END.."
   ]
  }
 ],
 "metadata": {
  "kernelspec": {
   "display_name": "Python 3",
   "language": "python",
   "name": "python3"
  },
  "language_info": {
   "codemirror_mode": {
    "name": "ipython",
    "version": 3
   },
   "file_extension": ".py",
   "mimetype": "text/x-python",
   "name": "python",
   "nbconvert_exporter": "python",
   "pygments_lexer": "ipython3",
   "version": "3.8.8"
  }
 },
 "nbformat": 4,
 "nbformat_minor": 5
}
